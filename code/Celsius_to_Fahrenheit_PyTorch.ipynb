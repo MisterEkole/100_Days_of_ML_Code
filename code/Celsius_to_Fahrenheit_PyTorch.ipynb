{
  "nbformat": 4,
  "nbformat_minor": 0,
  "metadata": {
    "colab": {
      "name": "Celsius to Fahrenheit PyTorch.ipynb",
      "provenance": [],
      "authorship_tag": "ABX9TyMhdBdcA7yBG8Ge7M2cS5jm",
      "include_colab_link": true
    },
    "kernelspec": {
      "name": "python3",
      "display_name": "Python 3"
    }
  },
  "cells": [
    {
      "cell_type": "markdown",
      "metadata": {
        "id": "view-in-github",
        "colab_type": "text"
      },
      "source": [
        "<a href=\"https://colab.research.google.com/github/george-studenko/100_Days_of_ML_Code/blob/master/code/Celsius_to_Fahrenheit_PyTorch.ipynb\" target=\"_parent\"><img src=\"https://colab.research.google.com/assets/colab-badge.svg\" alt=\"Open In Colab\"/></a>"
      ]
    },
    {
      "cell_type": "code",
      "metadata": {
        "id": "60XriFRSwCpQ",
        "colab_type": "code",
        "colab": {}
      },
      "source": [
        "import numpy as np"
      ],
      "execution_count": 0,
      "outputs": []
    },
    {
      "cell_type": "code",
      "metadata": {
        "id": "tFu0XWgowMUK",
        "colab_type": "code",
        "colab": {}
      },
      "source": [
        "import torch\n",
        "import torch.nn as nn\n",
        "import torch.nn.functional as F\n",
        "from torch.autograd import Variable\n",
        "from torch import optim"
      ],
      "execution_count": 0,
      "outputs": []
    },
    {
      "cell_type": "markdown",
      "metadata": {
        "id": "zY2LNl-r3yRj",
        "colab_type": "text"
      },
      "source": [
        "𝑓=𝑐×1.8+32"
      ]
    },
    {
      "cell_type": "code",
      "metadata": {
        "id": "JY7wxI3uwepJ",
        "colab_type": "code",
        "colab": {}
      },
      "source": [
        "celsius    = np.array([[-40], [-10],  [0],  [8], [15], [22],  [38]],  dtype=float)\n",
        "fahrenheit = np.array([[-40],  [14], [32], [46.4], [59], [71.6], [100.4]],  dtype=float)\n",
        "\n",
        "test_set = np.array([[71],  [94], [117]],  dtype=float)\n",
        "test_set_result_should_be = np.array([[159.8],  [201.2], [242.6]],  dtype=float)\n"
      ],
      "execution_count": 0,
      "outputs": []
    },
    {
      "cell_type": "code",
      "metadata": {
        "id": "95CJm06p547U",
        "colab_type": "code",
        "colab": {}
      },
      "source": [
        "celsius = Variable(torch.from_numpy(celsius))\n",
        "fahrenheit = Variable(torch.from_numpy(fahrenheit))\n",
        "\n",
        "test_set = Variable(torch.from_numpy(test_set))\n",
        "test_set_result_should_be = Variable(torch.from_numpy(test_set_result_should_be))"
      ],
      "execution_count": 0,
      "outputs": []
    },
    {
      "cell_type": "code",
      "metadata": {
        "id": "FznK-6K9_rqa",
        "colab_type": "code",
        "colab": {
          "base_uri": "https://localhost:8080/",
          "height": 34
        },
        "outputId": "3679a981-bf0e-4098-82d8-ae581bbc0294"
      },
      "source": [
        "celsius[0]"
      ],
      "execution_count": 131,
      "outputs": [
        {
          "output_type": "execute_result",
          "data": {
            "text/plain": [
              "tensor([-40.], dtype=torch.float64)"
            ]
          },
          "metadata": {
            "tags": []
          },
          "execution_count": 131
        }
      ]
    },
    {
      "cell_type": "code",
      "metadata": {
        "id": "Bfogi_QY36Hv",
        "colab_type": "code",
        "colab": {}
      },
      "source": [
        "linear_model = nn.Linear(1,1)"
      ],
      "execution_count": 0,
      "outputs": []
    },
    {
      "cell_type": "code",
      "metadata": {
        "id": "BoLK3nxK4Nv9",
        "colab_type": "code",
        "colab": {
          "base_uri": "https://localhost:8080/",
          "height": 34
        },
        "outputId": "2f5b2874-12d5-4283-b6e5-284f263a26b0"
      },
      "source": [
        "linear_model"
      ],
      "execution_count": 146,
      "outputs": [
        {
          "output_type": "execute_result",
          "data": {
            "text/plain": [
              "Linear(in_features=1, out_features=1, bias=True)"
            ]
          },
          "metadata": {
            "tags": []
          },
          "execution_count": 146
        }
      ]
    },
    {
      "cell_type": "code",
      "metadata": {
        "id": "UI3Dv1YJ4dLa",
        "colab_type": "code",
        "colab": {
          "base_uri": "https://localhost:8080/",
          "height": 51
        },
        "outputId": "2879a187-c63a-4fc2-f7b4-0e3d0c6899c2"
      },
      "source": [
        "linear_model.weight"
      ],
      "execution_count": 147,
      "outputs": [
        {
          "output_type": "execute_result",
          "data": {
            "text/plain": [
              "Parameter containing:\n",
              "tensor([[-0.4284]], requires_grad=True)"
            ]
          },
          "metadata": {
            "tags": []
          },
          "execution_count": 147
        }
      ]
    },
    {
      "cell_type": "code",
      "metadata": {
        "id": "H7G3a-CU4fts",
        "colab_type": "code",
        "colab": {
          "base_uri": "https://localhost:8080/",
          "height": 51
        },
        "outputId": "4f8d2a57-8b92-4942-9325-94c70427c595"
      },
      "source": [
        "linear_model.bias"
      ],
      "execution_count": 148,
      "outputs": [
        {
          "output_type": "execute_result",
          "data": {
            "text/plain": [
              "Parameter containing:\n",
              "tensor([0.1566], requires_grad=True)"
            ]
          },
          "metadata": {
            "tags": []
          },
          "execution_count": 148
        }
      ]
    },
    {
      "cell_type": "code",
      "metadata": {
        "id": "AfQ6wacg4iLZ",
        "colab_type": "code",
        "colab": {}
      },
      "source": [
        "linear_model.double()\n",
        "y = linear_model(celsius[0])"
      ],
      "execution_count": 0,
      "outputs": []
    },
    {
      "cell_type": "code",
      "metadata": {
        "id": "dJa1xeY24yC4",
        "colab_type": "code",
        "colab": {
          "base_uri": "https://localhost:8080/",
          "height": 34
        },
        "outputId": "b1f6d28e-d65e-445f-df58-423b50c26901"
      },
      "source": [
        "y"
      ],
      "execution_count": 150,
      "outputs": [
        {
          "output_type": "execute_result",
          "data": {
            "text/plain": [
              "tensor([17.2945], dtype=torch.float64, grad_fn=<AddBackward0>)"
            ]
          },
          "metadata": {
            "tags": []
          },
          "execution_count": 150
        }
      ]
    },
    {
      "cell_type": "code",
      "metadata": {
        "id": "IrF4GI_s91hF",
        "colab_type": "code",
        "colab": {}
      },
      "source": [
        "criterion = nn.MSELoss()\n",
        "sgd_optimizer = optim.SGD(linear_model.parameters(),lr = 0.001)"
      ],
      "execution_count": 0,
      "outputs": []
    },
    {
      "cell_type": "code",
      "metadata": {
        "id": "W4lK_r8M-EPp",
        "colab_type": "code",
        "colab": {
          "base_uri": "https://localhost:8080/",
          "height": 1000
        },
        "outputId": "5440ee68-fe05-47aa-c692-73e48b1e794c"
      },
      "source": [
        "epochs = 600\n",
        "print_every = 50\n",
        "steps = 0\n",
        "\n",
        "for epoch in range(epochs):\n",
        "    running_loss = 0\n",
        "    \n",
        "    linear_model.train()\n",
        "    \n",
        "    # train\n",
        "    for index in range(len(celsius)):\n",
        "        steps += 1\n",
        "        \n",
        "        # Set gradients to zero\n",
        "        sgd_optimizer.zero_grad()\n",
        "        \n",
        "        y_hat = linear_model.forward(celsius[index])\n",
        "        loss = criterion(y_hat,fahrenheit[index])\n",
        "        loss.backward()\n",
        "        sgd_optimizer.step()\n",
        "        \n",
        "        running_loss += loss.item()\n",
        "        \n",
        "        if steps % print_every == 0:\n",
        "            linear_model.eval()\n",
        "          #  with torch.no_grad():\n",
        "          #      test_loss, accuracy = validation(linear_model,testloader,criterion)\n",
        "            \n",
        "            print(\"Epoch: {}/{}... \".format(epoch+1, epochs),\n",
        "                  \"Loss: {:.3f}\".format(running_loss/print_every))\n",
        "                 # \"Test Loss: {:.3f}\".format(test_loss/len(testloader)),\n",
        "                 # \"Test Accuracy: {:.3f}\".format(accuracy/len(testloader)))\n",
        "            \n",
        "            running_loss = 0\n",
        "            \n",
        "            linear_model.train()"
      ],
      "execution_count": 152,
      "outputs": [
        {
          "output_type": "stream",
          "text": [
            "Epoch: 8/600...  Loss: 8.683\n",
            "Epoch: 15/600...  Loss: 9.436\n",
            "Epoch: 22/600...  Loss: 20.998\n",
            "Epoch: 29/600...  Loss: 45.084\n",
            "Epoch: 36/600...  Loss: 65.423\n",
            "Epoch: 43/600...  Loss: 62.429\n",
            "Epoch: 50/600...  Loss: 56.593\n",
            "Epoch: 58/600...  Loss: 2.862\n",
            "Epoch: 65/600...  Loss: 3.110\n",
            "Epoch: 72/600...  Loss: 6.920\n",
            "Epoch: 79/600...  Loss: 14.858\n",
            "Epoch: 86/600...  Loss: 21.560\n",
            "Epoch: 93/600...  Loss: 20.574\n",
            "Epoch: 100/600...  Loss: 18.651\n",
            "Epoch: 108/600...  Loss: 0.943\n",
            "Epoch: 115/600...  Loss: 1.025\n",
            "Epoch: 122/600...  Loss: 2.281\n",
            "Epoch: 129/600...  Loss: 4.896\n",
            "Epoch: 136/600...  Loss: 7.105\n",
            "Epoch: 143/600...  Loss: 6.780\n",
            "Epoch: 150/600...  Loss: 6.146\n",
            "Epoch: 158/600...  Loss: 0.311\n",
            "Epoch: 165/600...  Loss: 0.338\n",
            "Epoch: 172/600...  Loss: 0.752\n",
            "Epoch: 179/600...  Loss: 1.614\n",
            "Epoch: 186/600...  Loss: 2.342\n",
            "Epoch: 193/600...  Loss: 2.234\n",
            "Epoch: 200/600...  Loss: 2.026\n",
            "Epoch: 208/600...  Loss: 0.102\n",
            "Epoch: 215/600...  Loss: 0.111\n",
            "Epoch: 222/600...  Loss: 0.248\n",
            "Epoch: 229/600...  Loss: 0.532\n",
            "Epoch: 236/600...  Loss: 0.772\n",
            "Epoch: 243/600...  Loss: 0.736\n",
            "Epoch: 250/600...  Loss: 0.668\n",
            "Epoch: 258/600...  Loss: 0.034\n",
            "Epoch: 265/600...  Loss: 0.037\n",
            "Epoch: 272/600...  Loss: 0.082\n",
            "Epoch: 279/600...  Loss: 0.175\n",
            "Epoch: 286/600...  Loss: 0.254\n",
            "Epoch: 293/600...  Loss: 0.243\n",
            "Epoch: 300/600...  Loss: 0.220\n",
            "Epoch: 308/600...  Loss: 0.011\n",
            "Epoch: 315/600...  Loss: 0.012\n",
            "Epoch: 322/600...  Loss: 0.027\n",
            "Epoch: 329/600...  Loss: 0.058\n",
            "Epoch: 336/600...  Loss: 0.084\n",
            "Epoch: 343/600...  Loss: 0.080\n",
            "Epoch: 350/600...  Loss: 0.072\n",
            "Epoch: 358/600...  Loss: 0.004\n",
            "Epoch: 365/600...  Loss: 0.004\n",
            "Epoch: 372/600...  Loss: 0.009\n",
            "Epoch: 379/600...  Loss: 0.019\n",
            "Epoch: 386/600...  Loss: 0.028\n",
            "Epoch: 393/600...  Loss: 0.026\n",
            "Epoch: 400/600...  Loss: 0.024\n",
            "Epoch: 408/600...  Loss: 0.001\n",
            "Epoch: 415/600...  Loss: 0.001\n",
            "Epoch: 422/600...  Loss: 0.003\n",
            "Epoch: 429/600...  Loss: 0.006\n",
            "Epoch: 436/600...  Loss: 0.009\n",
            "Epoch: 443/600...  Loss: 0.009\n",
            "Epoch: 450/600...  Loss: 0.008\n",
            "Epoch: 458/600...  Loss: 0.000\n",
            "Epoch: 465/600...  Loss: 0.000\n",
            "Epoch: 472/600...  Loss: 0.001\n",
            "Epoch: 479/600...  Loss: 0.002\n",
            "Epoch: 486/600...  Loss: 0.003\n",
            "Epoch: 493/600...  Loss: 0.003\n",
            "Epoch: 500/600...  Loss: 0.003\n",
            "Epoch: 508/600...  Loss: 0.000\n",
            "Epoch: 515/600...  Loss: 0.000\n",
            "Epoch: 522/600...  Loss: 0.000\n",
            "Epoch: 529/600...  Loss: 0.001\n",
            "Epoch: 536/600...  Loss: 0.001\n",
            "Epoch: 543/600...  Loss: 0.001\n",
            "Epoch: 550/600...  Loss: 0.001\n",
            "Epoch: 558/600...  Loss: 0.000\n",
            "Epoch: 565/600...  Loss: 0.000\n",
            "Epoch: 572/600...  Loss: 0.000\n",
            "Epoch: 579/600...  Loss: 0.000\n",
            "Epoch: 586/600...  Loss: 0.000\n",
            "Epoch: 593/600...  Loss: 0.000\n",
            "Epoch: 600/600...  Loss: 0.000\n"
          ],
          "name": "stdout"
        }
      ]
    },
    {
      "cell_type": "code",
      "metadata": {
        "id": "FkUhaQf3CoSL",
        "colab_type": "code",
        "colab": {
          "base_uri": "https://localhost:8080/",
          "height": 34
        },
        "outputId": "396a1216-dd8e-485c-fcfd-861eb05bd2e7"
      },
      "source": [
        "linear_model.weight.item()"
      ],
      "execution_count": 166,
      "outputs": [
        {
          "output_type": "execute_result",
          "data": {
            "text/plain": [
              "1.7996913422235987"
            ]
          },
          "metadata": {
            "tags": []
          },
          "execution_count": 166
        }
      ]
    },
    {
      "cell_type": "code",
      "metadata": {
        "id": "bHdZVEK0C1iL",
        "colab_type": "code",
        "colab": {
          "base_uri": "https://localhost:8080/",
          "height": 34
        },
        "outputId": "8736470a-4c17-4010-96e2-a7d6c7fd0cbf"
      },
      "source": [
        "linear_model.bias.item()"
      ],
      "execution_count": 167,
      "outputs": [
        {
          "output_type": "execute_result",
          "data": {
            "text/plain": [
              "31.958804349211995"
            ]
          },
          "metadata": {
            "tags": []
          },
          "execution_count": 167
        }
      ]
    },
    {
      "cell_type": "code",
      "metadata": {
        "id": "G1LrHSasFcuj",
        "colab_type": "code",
        "colab": {}
      },
      "source": [
        "def run_tests():\n",
        "  for index in range(len(test_set)):\n",
        "    prediction = linear_model(test_set[index])\n",
        "    label = test_set_result_should_be[index]\n",
        "    print(f'Prediction:{prediction.item()} Label: {label.item()}')"
      ],
      "execution_count": 0,
      "outputs": []
    },
    {
      "cell_type": "code",
      "metadata": {
        "id": "3ulFFYSgC3Mz",
        "colab_type": "code",
        "colab": {
          "base_uri": "https://localhost:8080/",
          "height": 68
        },
        "outputId": "baaefae6-18ab-4e85-de31-cd797f736ba4"
      },
      "source": [
        "run_tests()"
      ],
      "execution_count": 165,
      "outputs": [
        {
          "output_type": "stream",
          "text": [
            "Prediction:159.7368896470875 Label: 159.8\n",
            "Prediction:201.12979051823027 Label: 201.2\n",
            "Prediction:242.52269138937305 Label: 242.6\n"
          ],
          "name": "stdout"
        }
      ]
    },
    {
      "cell_type": "code",
      "metadata": {
        "id": "5bo641rMFYHv",
        "colab_type": "code",
        "colab": {}
      },
      "source": [
        ""
      ],
      "execution_count": 0,
      "outputs": []
    }
  ]
}