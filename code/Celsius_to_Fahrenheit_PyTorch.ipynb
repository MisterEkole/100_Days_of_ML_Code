{
  "nbformat": 4,
  "nbformat_minor": 0,
  "metadata": {
    "colab": {
      "name": "Celsius to Fahrenheit PyTorch.ipynb",
      "provenance": [],
      "collapsed_sections": [],
      "authorship_tag": "ABX9TyNeePCLlDC1JN6kz7pDg7mW",
      "include_colab_link": true
    },
    "kernelspec": {
      "name": "python3",
      "display_name": "Python 3"
    }
  },
  "cells": [
    {
      "cell_type": "markdown",
      "metadata": {
        "id": "view-in-github",
        "colab_type": "text"
      },
      "source": [
        "<a href=\"https://colab.research.google.com/github/george-studenko/100_Days_of_ML_Code/blob/master/code/Celsius_to_Fahrenheit_PyTorch.ipynb\" target=\"_parent\"><img src=\"https://colab.research.google.com/assets/colab-badge.svg\" alt=\"Open In Colab\"/></a>"
      ]
    },
    {
      "cell_type": "code",
      "metadata": {
        "id": "60XriFRSwCpQ",
        "colab_type": "code",
        "colab": {}
      },
      "source": [
        ""
      ],
      "execution_count": 0,
      "outputs": []
    },
    {
      "cell_type": "code",
      "metadata": {
        "id": "tFu0XWgowMUK",
        "colab_type": "code",
        "colab": {}
      },
      "source": [
        "import numpy as np\n",
        "import torch\n",
        "import torch.nn as nn\n",
        "from torch.autograd import Variable\n",
        "from torch import optim"
      ],
      "execution_count": 0,
      "outputs": []
    },
    {
      "cell_type": "markdown",
      "metadata": {
        "id": "zY2LNl-r3yRj",
        "colab_type": "text"
      },
      "source": [
        "𝑓=𝑐×1.8+32"
      ]
    },
    {
      "cell_type": "code",
      "metadata": {
        "id": "JY7wxI3uwepJ",
        "colab_type": "code",
        "colab": {}
      },
      "source": [
        "celsius    = np.array([[-40], [-10],  [0],  [8], [15], [22],  [38]],  dtype=float)\n",
        "fahrenheit = np.array([[-40],  [14], [32], [46.4], [59], [71.6], [100.4]],  dtype=float)\n",
        "\n",
        "test_set = np.array([[71],  [94], [117]],  dtype=float)\n",
        "test_set_result_should_be = np.array([[159.8],  [201.2], [242.6]],  dtype=float)\n"
      ],
      "execution_count": 0,
      "outputs": []
    },
    {
      "cell_type": "code",
      "metadata": {
        "id": "95CJm06p547U",
        "colab_type": "code",
        "colab": {}
      },
      "source": [
        "celsius = Variable(torch.from_numpy(celsius))\n",
        "fahrenheit = Variable(torch.from_numpy(fahrenheit))\n",
        "\n",
        "test_set = Variable(torch.from_numpy(test_set))\n",
        "test_set_result_should_be = Variable(torch.from_numpy(test_set_result_should_be))"
      ],
      "execution_count": 0,
      "outputs": []
    },
    {
      "cell_type": "code",
      "metadata": {
        "id": "FznK-6K9_rqa",
        "colab_type": "code",
        "colab": {
          "base_uri": "https://localhost:8080/",
          "height": 34
        },
        "outputId": "f996e485-3069-4e4f-de9e-83224e9d86cc"
      },
      "source": [
        "celsius[0]"
      ],
      "execution_count": 7,
      "outputs": [
        {
          "output_type": "execute_result",
          "data": {
            "text/plain": [
              "tensor([-40.], dtype=torch.float64)"
            ]
          },
          "metadata": {
            "tags": []
          },
          "execution_count": 7
        }
      ]
    },
    {
      "cell_type": "code",
      "metadata": {
        "id": "Bfogi_QY36Hv",
        "colab_type": "code",
        "colab": {}
      },
      "source": [
        "linear_model = nn.Linear(1,1)"
      ],
      "execution_count": 0,
      "outputs": []
    },
    {
      "cell_type": "code",
      "metadata": {
        "id": "BoLK3nxK4Nv9",
        "colab_type": "code",
        "colab": {
          "base_uri": "https://localhost:8080/",
          "height": 34
        },
        "outputId": "81014ac1-cb32-4743-ddf8-72bf8add2b00"
      },
      "source": [
        "linear_model"
      ],
      "execution_count": 9,
      "outputs": [
        {
          "output_type": "execute_result",
          "data": {
            "text/plain": [
              "Linear(in_features=1, out_features=1, bias=True)"
            ]
          },
          "metadata": {
            "tags": []
          },
          "execution_count": 9
        }
      ]
    },
    {
      "cell_type": "code",
      "metadata": {
        "id": "UI3Dv1YJ4dLa",
        "colab_type": "code",
        "colab": {
          "base_uri": "https://localhost:8080/",
          "height": 34
        },
        "outputId": "b0dddfa6-de1a-4ff4-c05b-6303141561d8"
      },
      "source": [
        "print(f'Model weight before training is: {linear_model.weight.item()}')"
      ],
      "execution_count": 12,
      "outputs": [
        {
          "output_type": "stream",
          "text": [
            "Model weight is: -0.8136303424835205\n"
          ],
          "name": "stdout"
        }
      ]
    },
    {
      "cell_type": "code",
      "metadata": {
        "id": "H7G3a-CU4fts",
        "colab_type": "code",
        "colab": {
          "base_uri": "https://localhost:8080/",
          "height": 34
        },
        "outputId": "fba6fa4c-e944-4cca-bcf2-fe8d54f6b0c7"
      },
      "source": [
        "print(f'Model bias before training is: {linear_model.bias.item()}')"
      ],
      "execution_count": 13,
      "outputs": [
        {
          "output_type": "stream",
          "text": [
            "Model bias is: -0.17612791061401367\n"
          ],
          "name": "stdout"
        }
      ]
    },
    {
      "cell_type": "code",
      "metadata": {
        "id": "AfQ6wacg4iLZ",
        "colab_type": "code",
        "colab": {}
      },
      "source": [
        "linear_model.double()\n",
        "y = linear_model(celsius[0])"
      ],
      "execution_count": 0,
      "outputs": []
    },
    {
      "cell_type": "code",
      "metadata": {
        "id": "dJa1xeY24yC4",
        "colab_type": "code",
        "colab": {
          "base_uri": "https://localhost:8080/",
          "height": 34
        },
        "outputId": "3f5ec0b0-dd85-4e09-bb93-29b185f9c437"
      },
      "source": [
        "print(f'The prediction for -40 C without training the model is: {round(y.item(),2)} F and should really be {fahrenheit[0].item()} F')"
      ],
      "execution_count": 20,
      "outputs": [
        {
          "output_type": "stream",
          "text": [
            "The prediction for -40 C without training the model is: 32.37 F and should really be -40.0 F\n"
          ],
          "name": "stdout"
        }
      ]
    },
    {
      "cell_type": "code",
      "metadata": {
        "id": "IrF4GI_s91hF",
        "colab_type": "code",
        "colab": {}
      },
      "source": [
        "criterion = nn.MSELoss()\n",
        "sgd_optimizer = optim.SGD(linear_model.parameters(),lr = 0.001)"
      ],
      "execution_count": 0,
      "outputs": []
    },
    {
      "cell_type": "code",
      "metadata": {
        "id": "W4lK_r8M-EPp",
        "colab_type": "code",
        "colab": {
          "base_uri": "https://localhost:8080/",
          "height": 1000
        },
        "outputId": "55d14af7-d907-459b-e607-cfb981870167"
      },
      "source": [
        "epochs = 600\n",
        "print_every = 50\n",
        "steps = 0\n",
        "\n",
        "for epoch in range(epochs):\n",
        "    running_loss = 0\n",
        "    \n",
        "    linear_model.train()\n",
        "    \n",
        "    # train\n",
        "    for index in range(len(celsius)):\n",
        "        steps += 1\n",
        "        \n",
        "        # Set gradients to zero\n",
        "        sgd_optimizer.zero_grad()\n",
        "        \n",
        "        y_hat = linear_model.forward(celsius[index])\n",
        "        loss = criterion(y_hat,fahrenheit[index])\n",
        "        loss.backward()\n",
        "        sgd_optimizer.step()\n",
        "        \n",
        "        running_loss += loss.item()\n",
        "        \n",
        "        if steps % print_every == 0:\n",
        "            linear_model.eval()\n",
        "            \n",
        "            print(\"Epoch: {}/{}... \".format(epoch+1, epochs),\n",
        "                  \"Loss: {:.3f}\".format(running_loss/print_every))\n",
        "            \n",
        "            running_loss = 0\n",
        "            linear_model.train()"
      ],
      "execution_count": 29,
      "outputs": [
        {
          "output_type": "stream",
          "text": [
            "Epoch: 8/600...  Loss: 0.000\n",
            "Epoch: 15/600...  Loss: 0.000\n",
            "Epoch: 22/600...  Loss: 0.000\n",
            "Epoch: 29/600...  Loss: 0.000\n",
            "Epoch: 36/600...  Loss: 0.000\n",
            "Epoch: 43/600...  Loss: 0.000\n",
            "Epoch: 50/600...  Loss: 0.000\n",
            "Epoch: 58/600...  Loss: 0.000\n",
            "Epoch: 65/600...  Loss: 0.000\n",
            "Epoch: 72/600...  Loss: 0.000\n",
            "Epoch: 79/600...  Loss: 0.000\n",
            "Epoch: 86/600...  Loss: 0.000\n",
            "Epoch: 93/600...  Loss: 0.000\n",
            "Epoch: 100/600...  Loss: 0.000\n",
            "Epoch: 108/600...  Loss: 0.000\n",
            "Epoch: 115/600...  Loss: 0.000\n",
            "Epoch: 122/600...  Loss: 0.000\n",
            "Epoch: 129/600...  Loss: 0.000\n",
            "Epoch: 136/600...  Loss: 0.000\n",
            "Epoch: 143/600...  Loss: 0.000\n",
            "Epoch: 150/600...  Loss: 0.000\n",
            "Epoch: 158/600...  Loss: 0.000\n",
            "Epoch: 165/600...  Loss: 0.000\n",
            "Epoch: 172/600...  Loss: 0.000\n",
            "Epoch: 179/600...  Loss: 0.000\n",
            "Epoch: 186/600...  Loss: 0.000\n",
            "Epoch: 193/600...  Loss: 0.000\n",
            "Epoch: 200/600...  Loss: 0.000\n",
            "Epoch: 208/600...  Loss: 0.000\n",
            "Epoch: 215/600...  Loss: 0.000\n",
            "Epoch: 222/600...  Loss: 0.000\n",
            "Epoch: 229/600...  Loss: 0.000\n",
            "Epoch: 236/600...  Loss: 0.000\n",
            "Epoch: 243/600...  Loss: 0.000\n",
            "Epoch: 250/600...  Loss: 0.000\n",
            "Epoch: 258/600...  Loss: 0.000\n",
            "Epoch: 265/600...  Loss: 0.000\n",
            "Epoch: 272/600...  Loss: 0.000\n",
            "Epoch: 279/600...  Loss: 0.000\n",
            "Epoch: 286/600...  Loss: 0.000\n",
            "Epoch: 293/600...  Loss: 0.000\n",
            "Epoch: 300/600...  Loss: 0.000\n",
            "Epoch: 308/600...  Loss: 0.000\n",
            "Epoch: 315/600...  Loss: 0.000\n",
            "Epoch: 322/600...  Loss: 0.000\n",
            "Epoch: 329/600...  Loss: 0.000\n",
            "Epoch: 336/600...  Loss: 0.000\n",
            "Epoch: 343/600...  Loss: 0.000\n",
            "Epoch: 350/600...  Loss: 0.000\n",
            "Epoch: 358/600...  Loss: 0.000\n",
            "Epoch: 365/600...  Loss: 0.000\n",
            "Epoch: 372/600...  Loss: 0.000\n",
            "Epoch: 379/600...  Loss: 0.000\n",
            "Epoch: 386/600...  Loss: 0.000\n",
            "Epoch: 393/600...  Loss: 0.000\n",
            "Epoch: 400/600...  Loss: 0.000\n",
            "Epoch: 408/600...  Loss: 0.000\n",
            "Epoch: 415/600...  Loss: 0.000\n",
            "Epoch: 422/600...  Loss: 0.000\n",
            "Epoch: 429/600...  Loss: 0.000\n",
            "Epoch: 436/600...  Loss: 0.000\n",
            "Epoch: 443/600...  Loss: 0.000\n",
            "Epoch: 450/600...  Loss: 0.000\n",
            "Epoch: 458/600...  Loss: 0.000\n",
            "Epoch: 465/600...  Loss: 0.000\n",
            "Epoch: 472/600...  Loss: 0.000\n",
            "Epoch: 479/600...  Loss: 0.000\n",
            "Epoch: 486/600...  Loss: 0.000\n",
            "Epoch: 493/600...  Loss: 0.000\n",
            "Epoch: 500/600...  Loss: 0.000\n",
            "Epoch: 508/600...  Loss: 0.000\n",
            "Epoch: 515/600...  Loss: 0.000\n",
            "Epoch: 522/600...  Loss: 0.000\n",
            "Epoch: 529/600...  Loss: 0.000\n",
            "Epoch: 536/600...  Loss: 0.000\n",
            "Epoch: 543/600...  Loss: 0.000\n",
            "Epoch: 550/600...  Loss: 0.000\n",
            "Epoch: 558/600...  Loss: 0.000\n",
            "Epoch: 565/600...  Loss: 0.000\n",
            "Epoch: 572/600...  Loss: 0.000\n",
            "Epoch: 579/600...  Loss: 0.000\n",
            "Epoch: 586/600...  Loss: 0.000\n",
            "Epoch: 593/600...  Loss: 0.000\n",
            "Epoch: 600/600...  Loss: 0.000\n"
          ],
          "name": "stdout"
        }
      ]
    },
    {
      "cell_type": "code",
      "metadata": {
        "id": "FkUhaQf3CoSL",
        "colab_type": "code",
        "colab": {
          "base_uri": "https://localhost:8080/",
          "height": 34
        },
        "outputId": "97bd6ab3-e011-408b-91a1-f3d592d3aab2"
      },
      "source": [
        "print(f'Model weight after training is: {linear_model.weight.item()}')"
      ],
      "execution_count": 31,
      "outputs": [
        {
          "output_type": "stream",
          "text": [
            "Model weight after training is: 1.79999959976287\n"
          ],
          "name": "stdout"
        }
      ]
    },
    {
      "cell_type": "code",
      "metadata": {
        "id": "bHdZVEK0C1iL",
        "colab_type": "code",
        "colab": {
          "base_uri": "https://localhost:8080/",
          "height": 34
        },
        "outputId": "ec90c5f9-9394-4d5d-d085-735d2921997e"
      },
      "source": [
        "print(f'Model bias after training is: {linear_model.bias.item()}')"
      ],
      "execution_count": 24,
      "outputs": [
        {
          "output_type": "stream",
          "text": [
            "Model bias after training is: 31.958300538443208\n"
          ],
          "name": "stdout"
        }
      ]
    },
    {
      "cell_type": "code",
      "metadata": {
        "id": "G1LrHSasFcuj",
        "colab_type": "code",
        "colab": {}
      },
      "source": [
        "def run_tests():\n",
        "  for index in range(len(test_set)):\n",
        "    prediction = linear_model(test_set[index])\n",
        "    label = test_set_result_should_be[index]\n",
        "    print(f'Prediction:{prediction.item()} Label: {label.item()}')\n"
      ],
      "execution_count": 0,
      "outputs": []
    },
    {
      "cell_type": "code",
      "metadata": {
        "id": "3ulFFYSgC3Mz",
        "colab_type": "code",
        "colab": {
          "base_uri": "https://localhost:8080/",
          "height": 68
        },
        "outputId": "aabe92e2-3a4d-4d0b-a577-758cbc8890ce"
      },
      "source": [
        "run_tests()"
      ],
      "execution_count": 26,
      "outputs": [
        {
          "output_type": "stream",
          "text": [
            "Prediction:159.73611782591695 Label: 159.8\n",
            "Prediction:201.12893187678873 Label: 201.2\n",
            "Prediction:242.5217459276605 Label: 242.6\n"
          ],
          "name": "stdout"
        }
      ]
    },
    {
      "cell_type": "code",
      "metadata": {
        "id": "5bo641rMFYHv",
        "colab_type": "code",
        "colab": {}
      },
      "source": [
        "def run_tests():\n",
        "  for index in range(len(test_set)):\n",
        "    prediction = linear_model(test_set[index])\n",
        "    prediction = round(prediction.item(),2)\n",
        "    label = test_set_result_should_be[index]\n",
        "    print(f'Rounded Prediction:{prediction} Label: {label.item()}')"
      ],
      "execution_count": 0,
      "outputs": []
    },
    {
      "cell_type": "code",
      "metadata": {
        "id": "SPBy04M0Jyr9",
        "colab_type": "code",
        "colab": {
          "base_uri": "https://localhost:8080/",
          "height": 68
        },
        "outputId": "9a0e0530-7e19-4920-ff93-b0ca4c2086c4"
      },
      "source": [
        "run_tests()"
      ],
      "execution_count": 28,
      "outputs": [
        {
          "output_type": "stream",
          "text": [
            "Rounded Prediction:159.74 Label: 159.8\n",
            "Rounded Prediction:201.13 Label: 201.2\n",
            "Rounded Prediction:242.52 Label: 242.6\n"
          ],
          "name": "stdout"
        }
      ]
    },
    {
      "cell_type": "code",
      "metadata": {
        "id": "xfKCZlQXJ0A2",
        "colab_type": "code",
        "colab": {
          "base_uri": "https://localhost:8080/",
          "height": 68
        },
        "outputId": "fae1aaa9-cb8e-4a3a-fc42-006d8d737560"
      },
      "source": [
        "run_tests()"
      ],
      "execution_count": 30,
      "outputs": [
        {
          "output_type": "stream",
          "text": [
            "Rounded Prediction:159.8 Label: 159.8\n",
            "Rounded Prediction:201.2 Label: 201.2\n",
            "Rounded Prediction:242.6 Label: 242.6\n"
          ],
          "name": "stdout"
        }
      ]
    },
    {
      "cell_type": "code",
      "metadata": {
        "id": "NBf3uUR7LwpA",
        "colab_type": "code",
        "colab": {}
      },
      "source": [
        ""
      ],
      "execution_count": 0,
      "outputs": []
    }
  ]
}