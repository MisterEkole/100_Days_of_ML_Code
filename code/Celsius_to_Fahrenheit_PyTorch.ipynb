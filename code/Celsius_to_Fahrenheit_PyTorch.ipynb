{
  "nbformat": 4,
  "nbformat_minor": 0,
  "metadata": {
    "colab": {
      "name": "Celsius to Fahrenheit PyTorch.ipynb",
      "provenance": [],
      "collapsed_sections": [],
      "authorship_tag": "ABX9TyPNelpNf4ogXof2Ipl3VFuq",
      "include_colab_link": true
    },
    "kernelspec": {
      "name": "python3",
      "display_name": "Python 3"
    }
  },
  "cells": [
    {
      "cell_type": "markdown",
      "metadata": {
        "id": "view-in-github",
        "colab_type": "text"
      },
      "source": [
        "<a href=\"https://colab.research.google.com/github/george-studenko/100_Days_of_ML_Code/blob/master/code/Celsius_to_Fahrenheit_PyTorch.ipynb\" target=\"_parent\"><img src=\"https://colab.research.google.com/assets/colab-badge.svg\" alt=\"Open In Colab\"/></a>"
      ]
    },
    {
      "cell_type": "code",
      "metadata": {
        "id": "60XriFRSwCpQ",
        "colab_type": "code",
        "colab": {}
      },
      "source": [
        "import numpy as np"
      ],
      "execution_count": 0,
      "outputs": []
    },
    {
      "cell_type": "code",
      "metadata": {
        "id": "tFu0XWgowMUK",
        "colab_type": "code",
        "colab": {}
      },
      "source": [
        "import torch\n",
        "import torch.nn as nn\n",
        "import torch.nn.functional as F\n",
        "from torch.autograd import Variable\n",
        "from torch import optim"
      ],
      "execution_count": 0,
      "outputs": []
    },
    {
      "cell_type": "markdown",
      "metadata": {
        "id": "zY2LNl-r3yRj",
        "colab_type": "text"
      },
      "source": [
        "𝑓=𝑐×1.8+32"
      ]
    },
    {
      "cell_type": "code",
      "metadata": {
        "id": "JY7wxI3uwepJ",
        "colab_type": "code",
        "colab": {}
      },
      "source": [
        "celsius    = np.array([[-40], [-10],  [0],  [8], [15], [22],  [38]],  dtype=float)\n",
        "fahrenheit = np.array([[-40],  [14], [32], [46.4], [59], [71.6], [100.4]],  dtype=float)\n",
        "\n",
        "test_set = np.array([[71],  [94], [117]],  dtype=float)\n",
        "test_set_result_should_be = np.array([[159.8],  [201.2], [242.6]],  dtype=float)\n"
      ],
      "execution_count": 0,
      "outputs": []
    },
    {
      "cell_type": "code",
      "metadata": {
        "id": "95CJm06p547U",
        "colab_type": "code",
        "colab": {}
      },
      "source": [
        "celsius = Variable(torch.from_numpy(celsius))\n",
        "fahrenheit = Variable(torch.from_numpy(fahrenheit))\n",
        "\n",
        "test_set = Variable(torch.from_numpy(test_set))\n",
        "test_set_result_should_be = Variable(torch.from_numpy(test_set_result_should_be))"
      ],
      "execution_count": 0,
      "outputs": []
    },
    {
      "cell_type": "code",
      "metadata": {
        "id": "FznK-6K9_rqa",
        "colab_type": "code",
        "colab": {
          "base_uri": "https://localhost:8080/",
          "height": 34
        },
        "outputId": "3679a981-bf0e-4098-82d8-ae581bbc0294"
      },
      "source": [
        "celsius[0]"
      ],
      "execution_count": 131,
      "outputs": [
        {
          "output_type": "execute_result",
          "data": {
            "text/plain": [
              "tensor([-40.], dtype=torch.float64)"
            ]
          },
          "metadata": {
            "tags": []
          },
          "execution_count": 131
        }
      ]
    },
    {
      "cell_type": "code",
      "metadata": {
        "id": "Bfogi_QY36Hv",
        "colab_type": "code",
        "colab": {}
      },
      "source": [
        "linear_model = nn.Linear(1,1)"
      ],
      "execution_count": 0,
      "outputs": []
    },
    {
      "cell_type": "code",
      "metadata": {
        "id": "BoLK3nxK4Nv9",
        "colab_type": "code",
        "colab": {
          "base_uri": "https://localhost:8080/",
          "height": 34
        },
        "outputId": "2f5b2874-12d5-4283-b6e5-284f263a26b0"
      },
      "source": [
        "linear_model"
      ],
      "execution_count": 146,
      "outputs": [
        {
          "output_type": "execute_result",
          "data": {
            "text/plain": [
              "Linear(in_features=1, out_features=1, bias=True)"
            ]
          },
          "metadata": {
            "tags": []
          },
          "execution_count": 146
        }
      ]
    },
    {
      "cell_type": "code",
      "metadata": {
        "id": "UI3Dv1YJ4dLa",
        "colab_type": "code",
        "colab": {
          "base_uri": "https://localhost:8080/",
          "height": 51
        },
        "outputId": "2879a187-c63a-4fc2-f7b4-0e3d0c6899c2"
      },
      "source": [
        "linear_model.weight"
      ],
      "execution_count": 147,
      "outputs": [
        {
          "output_type": "execute_result",
          "data": {
            "text/plain": [
              "Parameter containing:\n",
              "tensor([[-0.4284]], requires_grad=True)"
            ]
          },
          "metadata": {
            "tags": []
          },
          "execution_count": 147
        }
      ]
    },
    {
      "cell_type": "code",
      "metadata": {
        "id": "H7G3a-CU4fts",
        "colab_type": "code",
        "colab": {
          "base_uri": "https://localhost:8080/",
          "height": 51
        },
        "outputId": "4f8d2a57-8b92-4942-9325-94c70427c595"
      },
      "source": [
        "linear_model.bias"
      ],
      "execution_count": 148,
      "outputs": [
        {
          "output_type": "execute_result",
          "data": {
            "text/plain": [
              "Parameter containing:\n",
              "tensor([0.1566], requires_grad=True)"
            ]
          },
          "metadata": {
            "tags": []
          },
          "execution_count": 148
        }
      ]
    },
    {
      "cell_type": "code",
      "metadata": {
        "id": "AfQ6wacg4iLZ",
        "colab_type": "code",
        "colab": {}
      },
      "source": [
        "linear_model.double()\n",
        "y = linear_model(celsius[0])"
      ],
      "execution_count": 0,
      "outputs": []
    },
    {
      "cell_type": "code",
      "metadata": {
        "id": "dJa1xeY24yC4",
        "colab_type": "code",
        "colab": {
          "base_uri": "https://localhost:8080/",
          "height": 34
        },
        "outputId": "b1f6d28e-d65e-445f-df58-423b50c26901"
      },
      "source": [
        "y"
      ],
      "execution_count": 150,
      "outputs": [
        {
          "output_type": "execute_result",
          "data": {
            "text/plain": [
              "tensor([17.2945], dtype=torch.float64, grad_fn=<AddBackward0>)"
            ]
          },
          "metadata": {
            "tags": []
          },
          "execution_count": 150
        }
      ]
    },
    {
      "cell_type": "code",
      "metadata": {
        "id": "IrF4GI_s91hF",
        "colab_type": "code",
        "colab": {}
      },
      "source": [
        "criterion = nn.MSELoss()\n",
        "sgd_optimizer = optim.SGD(linear_model.parameters(),lr = 0.001)"
      ],
      "execution_count": 0,
      "outputs": []
    },
    {
      "cell_type": "code",
      "metadata": {
        "id": "W4lK_r8M-EPp",
        "colab_type": "code",
        "colab": {
          "base_uri": "https://localhost:8080/",
          "height": 1000
        },
        "outputId": "d80f624a-c435-4617-d494-7aadccffd6d7"
      },
      "source": [
        "epochs = 600\n",
        "print_every = 50\n",
        "steps = 0\n",
        "\n",
        "for epoch in range(epochs):\n",
        "    running_loss = 0\n",
        "    \n",
        "    linear_model.train()\n",
        "    \n",
        "    # train\n",
        "    for index in range(len(celsius)):\n",
        "        steps += 1\n",
        "        \n",
        "        # Set gradients to zero\n",
        "        sgd_optimizer.zero_grad()\n",
        "        \n",
        "        y_hat = linear_model.forward(celsius[index])\n",
        "        loss = criterion(y_hat,fahrenheit[index])\n",
        "        loss.backward()\n",
        "        sgd_optimizer.step()\n",
        "        \n",
        "        running_loss += loss.item()\n",
        "        \n",
        "        if steps % print_every == 0:\n",
        "            linear_model.eval()\n",
        "            \n",
        "            print(\"Epoch: {}/{}... \".format(epoch+1, epochs),\n",
        "                  \"Loss: {:.3f}\".format(running_loss/print_every))\n",
        "            \n",
        "            running_loss = 0\n",
        "            linear_model.train()"
      ],
      "execution_count": 168,
      "outputs": [
        {
          "output_type": "stream",
          "text": [
            "Epoch: 8/600...  Loss: 0.000\n",
            "Epoch: 15/600...  Loss: 0.000\n",
            "Epoch: 22/600...  Loss: 0.000\n",
            "Epoch: 29/600...  Loss: 0.000\n",
            "Epoch: 36/600...  Loss: 0.000\n",
            "Epoch: 43/600...  Loss: 0.000\n",
            "Epoch: 50/600...  Loss: 0.000\n",
            "Epoch: 58/600...  Loss: 0.000\n",
            "Epoch: 65/600...  Loss: 0.000\n",
            "Epoch: 72/600...  Loss: 0.000\n",
            "Epoch: 79/600...  Loss: 0.000\n",
            "Epoch: 86/600...  Loss: 0.000\n",
            "Epoch: 93/600...  Loss: 0.000\n",
            "Epoch: 100/600...  Loss: 0.000\n",
            "Epoch: 108/600...  Loss: 0.000\n",
            "Epoch: 115/600...  Loss: 0.000\n",
            "Epoch: 122/600...  Loss: 0.000\n",
            "Epoch: 129/600...  Loss: 0.000\n",
            "Epoch: 136/600...  Loss: 0.000\n",
            "Epoch: 143/600...  Loss: 0.000\n",
            "Epoch: 150/600...  Loss: 0.000\n",
            "Epoch: 158/600...  Loss: 0.000\n",
            "Epoch: 165/600...  Loss: 0.000\n",
            "Epoch: 172/600...  Loss: 0.000\n",
            "Epoch: 179/600...  Loss: 0.000\n",
            "Epoch: 186/600...  Loss: 0.000\n",
            "Epoch: 193/600...  Loss: 0.000\n",
            "Epoch: 200/600...  Loss: 0.000\n",
            "Epoch: 208/600...  Loss: 0.000\n",
            "Epoch: 215/600...  Loss: 0.000\n",
            "Epoch: 222/600...  Loss: 0.000\n",
            "Epoch: 229/600...  Loss: 0.000\n",
            "Epoch: 236/600...  Loss: 0.000\n",
            "Epoch: 243/600...  Loss: 0.000\n",
            "Epoch: 250/600...  Loss: 0.000\n",
            "Epoch: 258/600...  Loss: 0.000\n",
            "Epoch: 265/600...  Loss: 0.000\n",
            "Epoch: 272/600...  Loss: 0.000\n",
            "Epoch: 279/600...  Loss: 0.000\n",
            "Epoch: 286/600...  Loss: 0.000\n",
            "Epoch: 293/600...  Loss: 0.000\n",
            "Epoch: 300/600...  Loss: 0.000\n",
            "Epoch: 308/600...  Loss: 0.000\n",
            "Epoch: 315/600...  Loss: 0.000\n",
            "Epoch: 322/600...  Loss: 0.000\n",
            "Epoch: 329/600...  Loss: 0.000\n",
            "Epoch: 336/600...  Loss: 0.000\n",
            "Epoch: 343/600...  Loss: 0.000\n",
            "Epoch: 350/600...  Loss: 0.000\n",
            "Epoch: 358/600...  Loss: 0.000\n",
            "Epoch: 365/600...  Loss: 0.000\n",
            "Epoch: 372/600...  Loss: 0.000\n",
            "Epoch: 379/600...  Loss: 0.000\n",
            "Epoch: 386/600...  Loss: 0.000\n",
            "Epoch: 393/600...  Loss: 0.000\n",
            "Epoch: 400/600...  Loss: 0.000\n",
            "Epoch: 408/600...  Loss: 0.000\n",
            "Epoch: 415/600...  Loss: 0.000\n",
            "Epoch: 422/600...  Loss: 0.000\n",
            "Epoch: 429/600...  Loss: 0.000\n",
            "Epoch: 436/600...  Loss: 0.000\n",
            "Epoch: 443/600...  Loss: 0.000\n",
            "Epoch: 450/600...  Loss: 0.000\n",
            "Epoch: 458/600...  Loss: 0.000\n",
            "Epoch: 465/600...  Loss: 0.000\n",
            "Epoch: 472/600...  Loss: 0.000\n",
            "Epoch: 479/600...  Loss: 0.000\n",
            "Epoch: 486/600...  Loss: 0.000\n",
            "Epoch: 493/600...  Loss: 0.000\n",
            "Epoch: 500/600...  Loss: 0.000\n",
            "Epoch: 508/600...  Loss: 0.000\n",
            "Epoch: 515/600...  Loss: 0.000\n",
            "Epoch: 522/600...  Loss: 0.000\n",
            "Epoch: 529/600...  Loss: 0.000\n",
            "Epoch: 536/600...  Loss: 0.000\n",
            "Epoch: 543/600...  Loss: 0.000\n",
            "Epoch: 550/600...  Loss: 0.000\n",
            "Epoch: 558/600...  Loss: 0.000\n",
            "Epoch: 565/600...  Loss: 0.000\n",
            "Epoch: 572/600...  Loss: 0.000\n",
            "Epoch: 579/600...  Loss: 0.000\n",
            "Epoch: 586/600...  Loss: 0.000\n",
            "Epoch: 593/600...  Loss: 0.000\n",
            "Epoch: 600/600...  Loss: 0.000\n"
          ],
          "name": "stdout"
        }
      ]
    },
    {
      "cell_type": "code",
      "metadata": {
        "id": "FkUhaQf3CoSL",
        "colab_type": "code",
        "colab": {
          "base_uri": "https://localhost:8080/",
          "height": 34
        },
        "outputId": "415cc43d-982d-41cc-cf7f-d84fca4408e5"
      },
      "source": [
        "linear_model.weight.item()"
      ],
      "execution_count": 169,
      "outputs": [
        {
          "output_type": "execute_result",
          "data": {
            "text/plain": [
              "1.7999996045985154"
            ]
          },
          "metadata": {
            "tags": []
          },
          "execution_count": 169
        }
      ]
    },
    {
      "cell_type": "code",
      "metadata": {
        "id": "bHdZVEK0C1iL",
        "colab_type": "code",
        "colab": {
          "base_uri": "https://localhost:8080/",
          "height": 34
        },
        "outputId": "6147412b-33e6-4f80-df6e-5bc09ccccc18"
      },
      "source": [
        "linear_model.bias.item()"
      ],
      "execution_count": 170,
      "outputs": [
        {
          "output_type": "execute_result",
          "data": {
            "text/plain": [
              "31.99994722691993"
            ]
          },
          "metadata": {
            "tags": []
          },
          "execution_count": 170
        }
      ]
    },
    {
      "cell_type": "code",
      "metadata": {
        "id": "G1LrHSasFcuj",
        "colab_type": "code",
        "colab": {}
      },
      "source": [
        "def run_tests():\n",
        "  for index in range(len(test_set)):\n",
        "    prediction = linear_model(test_set[index])\n",
        "    label = test_set_result_should_be[index]\n",
        "    print(f'Prediction:{prediction.item()} Label: {label.item()}')\n"
      ],
      "execution_count": 0,
      "outputs": []
    },
    {
      "cell_type": "code",
      "metadata": {
        "id": "3ulFFYSgC3Mz",
        "colab_type": "code",
        "colab": {
          "base_uri": "https://localhost:8080/",
          "height": 68
        },
        "outputId": "8fd9b4b6-5357-40b4-f505-8ad1a0348198"
      },
      "source": [
        "run_tests()"
      ],
      "execution_count": 181,
      "outputs": [
        {
          "output_type": "stream",
          "text": [
            "Prediction:159.79991915341452 Label: 159.8\n",
            "Prediction:201.19991005918035 Label: 201.2\n",
            "Prediction:242.59990096494624 Label: 242.6\n"
          ],
          "name": "stdout"
        }
      ]
    },
    {
      "cell_type": "code",
      "metadata": {
        "id": "5bo641rMFYHv",
        "colab_type": "code",
        "colab": {}
      },
      "source": [
        "def run_tests():\n",
        "  for index in range(len(test_set)):\n",
        "    prediction = linear_model(test_set[index])\n",
        "    prediction = round(prediction.item(),2)\n",
        "    label = test_set_result_should_be[index]\n",
        "    print(f'Rounded Prediction:{prediction} Label: {label.item()}')"
      ],
      "execution_count": 0,
      "outputs": []
    },
    {
      "cell_type": "code",
      "metadata": {
        "id": "SPBy04M0Jyr9",
        "colab_type": "code",
        "colab": {
          "base_uri": "https://localhost:8080/",
          "height": 68
        },
        "outputId": "70b726af-2f9e-481e-8b92-d25e5d4a58d5"
      },
      "source": [
        "run_tests()"
      ],
      "execution_count": 183,
      "outputs": [
        {
          "output_type": "stream",
          "text": [
            "Prediction:159.8 Label: 159.8\n",
            "Prediction:201.2 Label: 201.2\n",
            "Prediction:242.6 Label: 242.6\n"
          ],
          "name": "stdout"
        }
      ]
    },
    {
      "cell_type": "code",
      "metadata": {
        "id": "xfKCZlQXJ0A2",
        "colab_type": "code",
        "colab": {}
      },
      "source": [
        ""
      ],
      "execution_count": 0,
      "outputs": []
    }
  ]
}